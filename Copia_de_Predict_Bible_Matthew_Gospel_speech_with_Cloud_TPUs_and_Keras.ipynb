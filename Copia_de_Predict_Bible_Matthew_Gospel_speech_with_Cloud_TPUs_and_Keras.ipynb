{
  "cells": [
    {
      "cell_type": "markdown",
      "metadata": {
        "id": "view-in-github",
        "colab_type": "text"
      },
      "source": [
        "<a href=\"https://colab.research.google.com/github/angelhb/IA-Basics/blob/main/Copia_de_Predict_Bible_Matthew_Gospel_speech_with_Cloud_TPUs_and_Keras.ipynb\" target=\"_parent\"><img src=\"https://colab.research.google.com/assets/colab-badge.svg\" alt=\"Open In Colab\"/></a>"
      ]
    },
    {
      "cell_type": "markdown",
      "metadata": {
        "id": "N6ZDpd9XzFeN"
      },
      "source": [
        "##### Copyright 2018 The TensorFlow Hub Authors.\n",
        "\n",
        "Licensed under the Apache License, Version 2.0 (the \"License\");"
      ]
    },
    {
      "cell_type": "code",
      "execution_count": null,
      "metadata": {
        "cellView": "form",
        "id": "KUu4vOt5zI9d"
      },
      "outputs": [],
      "source": [
        "# Copyright 2018 The TensorFlow Hub Authors. All Rights Reserved.\n",
        "#\n",
        "# Licensed under the Apache License, Version 2.0 (the \"License\");\n",
        "# you may not use this file except in compliance with the License.\n",
        "# You may obtain a copy of the License at\n",
        "#\n",
        "#     http://www.apache.org/licenses/LICENSE-2.0\n",
        "#\n",
        "# Unless required by applicable law or agreed to in writing, software\n",
        "# distributed under the License is distributed on an \"AS IS\" BASIS,\n",
        "# WITHOUT WARRANTIES OR CONDITIONS OF ANY KIND, either express or implied.\n",
        "# See the License for the specific language governing permissions and\n",
        "# limitations under the License.\n",
        "# =============================================================================="
      ]
    },
    {
      "cell_type": "code",
      "execution_count": null,
      "metadata": {
        "id": "innBbve1LdjE"
      },
      "outputs": [],
      "source": []
    },
    {
      "cell_type": "markdown",
      "metadata": {
        "id": "edfbxDDh2AEs"
      },
      "source": [
        "## Predict Bible speeches with Cloud TPUs and Keras"
      ]
    },
    {
      "cell_type": "markdown",
      "metadata": {
        "id": "RNo1Vfghpa8j"
      },
      "source": [
        "## Overview\n",
        "\n",
        "This example uses [tf.keras](https://www.tensorflow.org/guide/keras) to build a *language model* and train it on a Cloud TPU. This language model predicts the next character of text given the text so far. The trained model can generate new snippets of text that read in a similar style to the text training data.\n",
        "\n",
        "The model trains for 10 epochs and completes in approximately 5 minutes.\n",
        "\n",
        "This notebook is hosted on GitHub. To view it in its original repository, after opening the notebook, select **File > View on GitHub**."
      ]
    },
    {
      "cell_type": "markdown",
      "metadata": {
        "id": "dgAHfQtuhddd"
      },
      "source": [
        "## Learning objectives\n",
        "\n",
        "In this Colab, you will learn how to:\n",
        "*   Build a two-layer, forward-LSTM model.\n",
        "*   Use distribution strategy to produce a `tf.keras` model that runs on TPU version and then use the standard Keras methods to train: `fit`, `predict`, and `evaluate`.\n",
        "*   Use the trained model to make predictions and generate your own Bible-esque play.\n",
        "\n",
        "\n",
        "\n",
        "\n"
      ]
    },
    {
      "cell_type": "markdown",
      "metadata": {
        "id": "QrprJD-R-410"
      },
      "source": [
        "## Instructions"
      ]
    },
    {
      "cell_type": "markdown",
      "metadata": {
        "id": "_I0RdnOSkNmi"
      },
      "source": [
        "<h3>  &nbsp;&nbsp;Train on TPU&nbsp;&nbsp; <a href=\"https://cloud.google.com/tpu/\"><img valign=\"middle\" src=\"https://raw.githubusercontent.com/GoogleCloudPlatform/tensorflow-without-a-phd/master/tensorflow-rl-pong/images/tpu-hexagon.png\" width=\"50\"></a></h3>\n",
        "\n",
        "   1. On the main menu, click Runtime and select **Change runtime type**. Set \"TPU\" as the hardware accelerator.\n",
        "   1. Click Runtime again and select **Runtime > Run All**. You can also run the cells manually with Shift-ENTER. "
      ]
    },
    {
      "cell_type": "markdown",
      "metadata": {
        "id": "kYxeFuKCUx9d"
      },
      "source": [
        "TPUs are located in Google Cloud, for optimal performance, they read data directly from Google Cloud Storage (GCS)"
      ]
    },
    {
      "cell_type": "markdown",
      "metadata": {
        "id": "Lvo0t7XVIkWZ"
      },
      "source": [
        "## Data, model, and training"
      ]
    },
    {
      "cell_type": "markdown",
      "metadata": {
        "id": "xzpUtDMqmA-x"
      },
      "source": [
        "In this example, you train the model on the combined works of William Shakespeare, then use the model to compose a play in the style of *The Great Bard*:\n",
        "\n",
        "<blockquote>\n",
        "Loves that led me no dumbs lack her Berjoy's face with her to-day.  \n",
        "The spirits roar'd; which shames which within his powers  \n",
        "\tWhich tied up remedies lending with occasion,  \n",
        "A loud and Lancaster, stabb'd in me  \n",
        "\tUpon my sword for ever: 'Agripo'er, his days let me free.  \n",
        "\tStop it of that word, be so: at Lear,  \n",
        "\tWhen I did profess the hour-stranger for my life,  \n",
        "\tWhen I did sink to be cried how for aught;  \n",
        "\tSome beds which seeks chaste senses prove burning;  \n",
        "But he perforces seen in her eyes so fast;  \n",
        "And _  \n",
        "</blockquote>\n"
      ]
    },
    {
      "cell_type": "markdown",
      "metadata": {
        "id": "KRQ6Fjra3Ruq"
      },
      "source": [
        "### Download data\n",
        "\n",
        "Download *The Bible, Douay-Rheims Version-The Challoner Revision* as a single text file from [Project Gutenberg](https://www.gutenberg.org/). You use snippets from this file as the *training data* for the model. The *target* snippet is offset by one character."
      ]
    },
    {
      "cell_type": "code",
      "execution_count": null,
      "metadata": {
        "colab": {
          "base_uri": "https://localhost:8080/"
        },
        "id": "j8sIXh1DEDDd",
        "outputId": "c097d1dc-e9d0-4695-896f-68abd4fec5b8"
      },
      "outputs": [
        {
          "output_type": "stream",
          "name": "stdout",
          "text": [
            "--2022-09-30 09:23:45--  https://www.gutenberg.org/files/1581/1581-h/1581-h.htm\n",
            "Resolving www.gutenberg.org (www.gutenberg.org)... 152.19.134.47, 2610:28:3090:3000:0:bad:cafe:47\n",
            "Connecting to www.gutenberg.org (www.gutenberg.org)|152.19.134.47|:443... connected.\n",
            "HTTP request sent, awaiting response... 200 OK\n",
            "Length: 6311712 (6.0M) [text/html]\n",
            "Saving to: ‘/content/bib.txt’\n",
            "\n",
            "/content/bib.txt    100%[===================>]   6.02M  18.4MB/s    in 0.3s    \n",
            "\n",
            "2022-09-30 09:23:45 (18.4 MB/s) - ‘/content/bib.txt’ saved [6311712/6311712]\n",
            "\n"
          ]
        }
      ],
      "source": [
        "!wget --show-progress --continue -O /content/bib.txt https://www.gutenberg.org/files/1581/1581-h/1581-h.htm#THE_HOLY_GOSPEL_OF_JESUS_CHRIST_ACCORDING_TO_ST_MATTHEW"
      ]
    },
    {
      "cell_type": "markdown",
      "metadata": {
        "id": "AbL6cqCl7hnt"
      },
      "source": [
        "### Build the input dataset"
      ]
    },
    {
      "cell_type": "markdown",
      "metadata": {
        "id": "Z7nbGKAHi0dx"
      },
      "source": [
        "We just downloaded some text. The following shows the start of the text and a random snippet so we can get a feel for the whole text."
      ]
    },
    {
      "cell_type": "code",
      "execution_count": null,
      "metadata": {
        "colab": {
          "base_uri": "https://localhost:8080/"
        },
        "id": "aJiYai-GjQRk",
        "outputId": "1b4f8402-e325-4508-b971-04fc0b1fec52"
      },
      "outputs": [
        {
          "output_type": "stream",
          "name": "stdout",
          "text": [
            "<!DOCTYPE html PUBLIC \"-//W3C//DTD XHTML 1.0 Strict//EN\"\r\n",
            "\"http://www.w3.org/TR/xhtml1/DTD/xhtml1-strict.dtd\">\r\n",
            "<html xmlns=\"http://www.w3.org/1999/xhtml\" xml:lang=\"en\" lang=\"en\">\r\n",
            "<head>\r\n",
            "<meta http-equiv=\"Content-Type\" content=\"text/html;charset=utf-8\" />\r\n",
            "...\n",
            "the house of the Lord.</p>\n",
            "fallen from him, and they were not divided. And he said: Where is now\n",
            "found\n",
            "and\n",
            "hidden that shall not be known.</p>\n"
          ]
        }
      ],
      "source": [
        "!head -n5 /content/bib.txt\n",
        "!echo \"...\"\n",
        "!shuf -n5 /content/bib.txt"
      ]
    },
    {
      "cell_type": "code",
      "execution_count": null,
      "metadata": {
        "id": "E3V4V-Jxmuv3"
      },
      "outputs": [],
      "source": [
        "import numpy as np\n",
        "import tensorflow as tf\n",
        "import os\n",
        "\n",
        "import distutils\n",
        "if distutils.version.LooseVersion(tf.__version__) < '2.0':\n",
        "    raise Exception('This notebook is compatible with TensorFlow 2.0 or higher.')\n",
        "\n",
        "BIB_TXT = '/content/bib.txt'\n",
        "\n",
        "def transform(txt):\n",
        "  return np.asarray([ord(c) for c in txt if ord(c) < 255], dtype=np.int32)\n",
        "\n",
        "def input_fn(seq_len=100, batch_size=1024):\n",
        "  \"\"\"Return a dataset of source and target sequences for training.\"\"\"\n",
        "  with tf.io.gfile.GFile(BIB_TXT, 'r') as f:\n",
        "    txt = f.read()\n",
        "\n",
        "  source = tf.constant(transform(txt), dtype=tf.int32)\n",
        "\n",
        "  ds = tf.data.Dataset.from_tensor_slices(source).batch(seq_len+1, drop_remainder=True)\n",
        "\n",
        "  def split_input_target(chunk):\n",
        "    input_text = chunk[:-1]\n",
        "    target_text = chunk[1:]\n",
        "    return input_text, target_text\n",
        "\n",
        "  BUFFER_SIZE = 10000\n",
        "  ds = ds.map(split_input_target).shuffle(BUFFER_SIZE).batch(batch_size, drop_remainder=True)\n",
        "\n",
        "  return ds.repeat()"
      ]
    },
    {
      "cell_type": "markdown",
      "metadata": {
        "id": "Bbb05dNynDrQ"
      },
      "source": [
        "### Build the model\n",
        "\n",
        "The model is defined as a two-layer, forward-LSTM, the same model should work both on CPU and TPU.\n",
        "\n",
        "Because our vocabulary size is 256, the input dimension to the Embedding layer is 256.\n",
        "\n",
        "When specifying the arguments to the LSTM, it is important to note how the stateful argument is used. When training we will make sure that `stateful=False` because we do want to reset the state of our model between batches, but when sampling (computing predictions) from a trained model, we want `stateful=True` so that the model can retain information across the current batch and generate more interesting text."
      ]
    },
    {
      "cell_type": "code",
      "execution_count": null,
      "metadata": {
        "id": "yLEM-fLJlEEt"
      },
      "outputs": [],
      "source": [
        "EMBEDDING_DIM = 1024\n",
        "\n",
        "def lstm_model(seq_len=100, batch_size=None, stateful=True):\n",
        "  \"\"\"Language model: predict the next word given the current word.\"\"\"\n",
        "  source = tf.keras.Input(\n",
        "      name='seed', shape=(seq_len,), batch_size=batch_size, dtype=tf.int32)\n",
        "\n",
        "  embedding = tf.keras.layers.Embedding(input_dim=256, output_dim=EMBEDDING_DIM)(source)\n",
        "  lstm_1 = tf.keras.layers.LSTM(EMBEDDING_DIM, stateful=stateful, return_sequences=True)(embedding)\n",
        "  lstm_2 = tf.keras.layers.LSTM(EMBEDDING_DIM, stateful=stateful, return_sequences=True)(lstm_1)\n",
        "  predicted_char = tf.keras.layers.TimeDistributed(tf.keras.layers.Dense(256, activation='softmax'))(lstm_2)\n",
        "  return tf.keras.Model(inputs=[source], outputs=[predicted_char])"
      ]
    },
    {
      "cell_type": "markdown",
      "metadata": {
        "id": "VzBYDJI0_Tfm"
      },
      "source": [
        "### Train the model\n",
        "\n",
        "First, we need to create a distribution strategy that can use the TPU. In this case it is TPUStrategy. You can create and compile the model inside its scope. Once that is done, future calls to the standard Keras methods `fit`, `evaluate` and `predict` use the TPU.\n",
        "\n",
        "Again note that we train with `stateful=False` because while training, we only care about one batch at a time."
      ]
    },
    {
      "cell_type": "code",
      "execution_count": null,
      "metadata": {
        "colab": {
          "base_uri": "https://localhost:8080/"
        },
        "id": "ExQ922tfzSGA",
        "outputId": "8860d81d-e77d-4cd1-88bb-0a30ef2f5981"
      },
      "outputs": [
        {
          "output_type": "stream",
          "name": "stderr",
          "text": [
            "WARNING:absl:`tf.distribute.experimental.TPUStrategy` is deprecated, please use  the non experimental symbol `tf.distribute.TPUStrategy` instead.\n"
          ]
        },
        {
          "output_type": "stream",
          "name": "stdout",
          "text": [
            "All devices:  [LogicalDevice(name='/job:worker/replica:0/task:0/device:TPU:0', device_type='TPU'), LogicalDevice(name='/job:worker/replica:0/task:0/device:TPU:1', device_type='TPU'), LogicalDevice(name='/job:worker/replica:0/task:0/device:TPU:2', device_type='TPU'), LogicalDevice(name='/job:worker/replica:0/task:0/device:TPU:3', device_type='TPU'), LogicalDevice(name='/job:worker/replica:0/task:0/device:TPU:4', device_type='TPU'), LogicalDevice(name='/job:worker/replica:0/task:0/device:TPU:5', device_type='TPU'), LogicalDevice(name='/job:worker/replica:0/task:0/device:TPU:6', device_type='TPU'), LogicalDevice(name='/job:worker/replica:0/task:0/device:TPU:7', device_type='TPU')]\n",
            "Epoch 1/20\n",
            "100/100 [==============================] - 30s 156ms/step - loss: 15.6807 - sparse_categorical_accuracy: 0.0072\n",
            "Epoch 2/20\n",
            "100/100 [==============================] - 16s 158ms/step - loss: 15.6882 - sparse_categorical_accuracy: 0.0180\n",
            "Epoch 3/20\n",
            "100/100 [==============================] - 15s 155ms/step - loss: 14.1366 - sparse_categorical_accuracy: 0.1164\n",
            "Epoch 4/20\n",
            "100/100 [==============================] - 16s 156ms/step - loss: 13.7437 - sparse_categorical_accuracy: 0.1396\n",
            "Epoch 5/20\n",
            "100/100 [==============================] - 16s 157ms/step - loss: 14.1313 - sparse_categorical_accuracy: 0.0969\n",
            "Epoch 6/20\n",
            "100/100 [==============================] - 16s 156ms/step - loss: 10.8246 - sparse_categorical_accuracy: 0.0954\n",
            "Epoch 7/20\n",
            "100/100 [==============================] - 16s 156ms/step - loss: 4.6924 - sparse_categorical_accuracy: 0.1378\n",
            "Epoch 8/20\n",
            "100/100 [==============================] - 16s 159ms/step - loss: 3.7948 - sparse_categorical_accuracy: 0.2123\n",
            "Epoch 9/20\n",
            "100/100 [==============================] - 16s 156ms/step - loss: 2.5368 - sparse_categorical_accuracy: 0.3762\n",
            "Epoch 10/20\n",
            "100/100 [==============================] - 16s 156ms/step - loss: 1.9222 - sparse_categorical_accuracy: 0.4875\n",
            "Epoch 11/20\n",
            "100/100 [==============================] - 16s 159ms/step - loss: 1.5982 - sparse_categorical_accuracy: 0.5598\n",
            "Epoch 12/20\n",
            "100/100 [==============================] - 16s 156ms/step - loss: 1.4257 - sparse_categorical_accuracy: 0.5979\n",
            "Epoch 13/20\n",
            "100/100 [==============================] - 16s 156ms/step - loss: 1.3117 - sparse_categorical_accuracy: 0.6252\n",
            "Epoch 14/20\n",
            "100/100 [==============================] - 16s 159ms/step - loss: 1.2722 - sparse_categorical_accuracy: 0.6322\n",
            "Epoch 15/20\n",
            "100/100 [==============================] - 16s 156ms/step - loss: 1.2187 - sparse_categorical_accuracy: 0.6415\n",
            "Epoch 16/20\n",
            "100/100 [==============================] - 16s 155ms/step - loss: 1.1747 - sparse_categorical_accuracy: 0.6517\n",
            "Epoch 17/20\n",
            "100/100 [==============================] - 16s 159ms/step - loss: 1.1735 - sparse_categorical_accuracy: 0.6525\n",
            "Epoch 18/20\n",
            "100/100 [==============================] - 16s 156ms/step - loss: 1.1605 - sparse_categorical_accuracy: 0.6548\n",
            "Epoch 19/20\n",
            "100/100 [==============================] - 16s 156ms/step - loss: 1.1333 - sparse_categorical_accuracy: 0.6608\n",
            "Epoch 20/20\n",
            "100/100 [==============================] - 16s 159ms/step - loss: 1.1412 - sparse_categorical_accuracy: 0.6590\n"
          ]
        }
      ],
      "source": [
        "tf.keras.backend.clear_session()\n",
        "\n",
        "resolver = tf.distribute.cluster_resolver.TPUClusterResolver(tpu='grpc://' + os.environ['COLAB_TPU_ADDR'])\n",
        "tf.config.experimental_connect_to_cluster(resolver)\n",
        "# This is the TPU initialization code that has to be at the beginning.\n",
        "tf.tpu.experimental.initialize_tpu_system(resolver)\n",
        "print(\"All devices: \", tf.config.list_logical_devices('TPU'))\n",
        "\n",
        "strategy = tf.distribute.experimental.TPUStrategy(resolver)\n",
        "\n",
        "with strategy.scope():\n",
        "  training_model = lstm_model(seq_len=100, stateful=False)\n",
        "  training_model.compile(\n",
        "      optimizer=tf.keras.optimizers.RMSprop(learning_rate=0.02),\n",
        "      loss='sparse_categorical_crossentropy',\n",
        "      metrics=['sparse_categorical_accuracy'])\n",
        "\n",
        "training_model.fit(\n",
        "    input_fn(),\n",
        "    steps_per_epoch=100,\n",
        "    epochs=20\n",
        ")\n",
        "training_model.save_weights('/tmp/bard.h5', overwrite=True)"
      ]
    },
    {
      "cell_type": "markdown",
      "metadata": {
        "id": "TCBtcpZkykSf"
      },
      "source": [
        "### Make predictions with the model\n",
        "\n",
        "Use the trained model to make predictions and generate your own Bible-esque play.\n",
        "Start the model off with a *seed* sentence, then generate 250 characters from it. The model makes five predictions from the initial seed.\n",
        "\n",
        "The predictions are done on the CPU so the batch size (5) in this case does not have to be divisible by 8.\n",
        "\n",
        "Note that when we are doing predictions or, to be more precise, text generation, we set `stateful=True` so that the model's state is kept between batches. If stateful is false, the model state is reset between each batch, and the model will only be able to use the information from the current batch (a single character) to make a prediction.\n",
        "\n",
        "The output of the model is a set of probabilities for the next character (given the input so far). To build a paragraph, we predict one character at a time and sample a character (based on the probabilities provided by the model). For example, if the input character is \"o\" and the output probabilities are \"p\" (0.65), \"t\" (0.30), others characters (0.05), then we allow our model to generate text other than just \"Ophelia\" and \"Othello.\""
      ]
    },
    {
      "cell_type": "code",
      "execution_count": null,
      "metadata": {
        "colab": {
          "base_uri": "https://localhost:8080/"
        },
        "id": "tU7M-EGGxR3E",
        "outputId": "cee4f06d-0de4-4374-a8e9-a48a62e60fca"
      },
      "outputs": [
        {
          "output_type": "stream",
          "name": "stdout",
          "text": [
            "PREDICTION 0\n",
            "\n",
            "\n",
            "n: and they esteemed\r\n",
            "these my field, she saw Adar, and\r\n",
            "covered cry thee, the king are street of the law, and shall case\r\n",
            "for everlay have seen cast \n",
            "\n",
            "PREDICTION 1\n",
            "\n",
            "\n",
            "n.</p>\r\n",
            "\r\n",
            "<p>13:31. Hear thee a cate with his fathers, give themselves and, and wicked, far \r\n",
            "uncleansed\r\n",
            "thee.</p>\r\n",
            "\r\n",
            "<p>5:4. Then you hear according\n",
            "\n",
            "PREDICTION 2\n",
            "\n",
            "\n",
            "n and knowledged at every litters, as he\r\n",
            "are dealtes, shall chase\r\n",
            "withstandest all the families, and sheed all their held,</p>\r\n",
            "\r\n",
            "<p>20:3. Theeas ar\n",
            "\n",
            "PREDICTION 3\n",
            "\n",
            "\n",
            "ned, and prayer of\r\n",
            "silver, and falllock.</p>\r\n",
            "\r\n",
            "<p>24:2. Therefore, and aside shall seeker of every inheritance rected all the year \r\n",
            "favouress \r\n",
            "ful\n",
            "\n",
            "PREDICTION 4\n",
            "\n",
            "\n",
            "n.</p>\r\n",
            "\r\n",
            "<p>24:5. Nor clothes, behold there are called, and cargely, because Pharaoswards the\r\n",
            "Mysplayeth,</p>\r\n",
            "\r\n",
            "<p>4:6. But their senselevered at l\n",
            "\n",
            "PREDICTION 5\n",
            "\n",
            "\n",
            "ns: and \r\n",
            "the\r\n",
            "isdes and frages, and before her men and slayed after, I know one was the servants\r\n",
            "even hastises:</p>\r\n",
            "\r\n",
            "<p>1:2. Cursed.</p>\r\n",
            "\r\n",
            "<p>18:\n",
            "\n"
          ]
        }
      ],
      "source": [
        "BATCH_SIZE = 6\n",
        "PREDICT_LEN = 150\n",
        "\n",
        "# Keras requires the batch size be specified ahead of time for stateful models.\n",
        "# We use a sequence length of 1, as we will be feeding in one character at a \n",
        "# time and predicting the next character.\n",
        "prediction_model = lstm_model(seq_len=1, batch_size=BATCH_SIZE, stateful=True)\n",
        "prediction_model.load_weights('/tmp/bard.h5')\n",
        "\n",
        "# We seed the model with our initial string, copied BATCH_SIZE times\n",
        "\n",
        "seed_txt = 'Blessed are the poor in spirit: for theirs is the kingdom of heaven'\n",
        "seed = transform(seed_txt)\n",
        "seed = np.repeat(np.expand_dims(seed, 0), BATCH_SIZE, axis=0)\n",
        "\n",
        "# First, run the seed forward to prime the state of the model.\n",
        "prediction_model.reset_states()\n",
        "for i in range(len(seed_txt) - 1):\n",
        "  prediction_model.predict(seed[:, i:i + 1])\n",
        "\n",
        "# Now we can accumulate predictions!\n",
        "predictions = [seed[:, -1:]]\n",
        "for i in range(PREDICT_LEN):\n",
        "  last_word = predictions[-1]\n",
        "  next_probits = prediction_model.predict(last_word)[:, 0, :]\n",
        "  \n",
        "  # sample from our output distribution\n",
        "  next_idx = [\n",
        "      np.random.choice(256, p=next_probits[i])\n",
        "      for i in range(BATCH_SIZE)\n",
        "  ]\n",
        "  predictions.append(np.asarray(next_idx, dtype=np.int32))\n",
        "  \n",
        "\n",
        "for i in range(BATCH_SIZE):\n",
        "  print('PREDICTION %d\\n\\n' % i)\n",
        "  p = [predictions[j][i] for j in range(PREDICT_LEN)]\n",
        "  generated = ''.join([chr(c) for c in p])  # Convert back to text\n",
        "  print(generated)\n",
        "  print()\n",
        "  assert len(generated) == PREDICT_LEN, 'Generated text too short'"
      ]
    },
    {
      "cell_type": "markdown",
      "metadata": {
        "id": "2a5cGsSTEBQD"
      },
      "source": [
        "## What's next\n",
        "\n",
        "* Learn about [Cloud TPUs](https://cloud.google.com/tpu/docs) that Google designed and optimized specifically to speed up and scale up ML workloads for training and inference and to enable ML engineers and researchers to iterate more quickly.\n",
        "* Explore the range of [Cloud TPU tutorials and Colabs](https://cloud.google.com/tpu/docs/tutorials) to find other examples that can be used when implementing your ML project.\n",
        "\n",
        "On Google Cloud Platform, in addition to GPUs and TPUs available on pre-configured [deep learning VMs](https://cloud.google.com/deep-learning-vm/),  you will find [AutoML](https://cloud.google.com/automl/)*(beta)* for training custom models without writing code and [Cloud ML Engine](https://cloud.google.com/ml-engine/docs/) which will allows you to run parallel trainings and hyperparameter tuning of your custom models on powerful distributed hardware.\n"
      ]
    }
  ],
  "metadata": {
    "accelerator": "TPU",
    "colab": {
      "collapsed_sections": [
        "N6ZDpd9XzFeN"
      ],
      "provenance": [],
      "include_colab_link": true
    },
    "kernelspec": {
      "display_name": "Python 3",
      "name": "python3"
    }
  },
  "nbformat": 4,
  "nbformat_minor": 0
}